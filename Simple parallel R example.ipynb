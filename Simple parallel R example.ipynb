{
 "cells": [
  {
   "cell_type": "markdown",
   "metadata": {},
   "source": [
    "# Parallelism in R\n",
    "\n",
    "R offers a number of alternative ways to exploit multiple cores and multiple machines.\n",
    "\n",
    "In many ways, the support for parallel execution in R is richer and more flexible than in python\n",
    "\n",
    "# R `parallel` package\n",
    "\n",
    "For R users already using `apply`-type methods that \"just work\".  These methods have all of advantages (compact, terse syntax) and disadvantages (compact, terse syntax) as their standard library serial versions."
   ]
  },
  {
   "cell_type": "code",
   "execution_count": 2,
   "metadata": {
    "collapsed": true
   },
   "outputs": [],
   "source": [
    "require(foreach)\n",
    "require(parallel)\n",
    "require(bit64)\n",
    "require(data.table)"
   ]
  },
  {
   "cell_type": "markdown",
   "metadata": {},
   "source": [
    "The following command sets us up to use the simple multi-core (MC) or parallel backend\n",
    "\n",
    "on Windows use doParallel, on linux or OSX use doMC"
   ]
  },
  {
   "cell_type": "code",
   "execution_count": 3,
   "metadata": {},
   "outputs": [
    {
     "name": "stderr",
     "output_type": "stream",
     "text": [
      "Loading required package: doMC\n",
      "Loading required package: iterators\n"
     ]
    }
   ],
   "source": [
    "require(doMC)\n",
    "registerDoMC()\n",
    "#require(doParallel)\n",
    "#registerDoParallel()"
   ]
  },
  {
   "cell_type": "markdown",
   "metadata": {},
   "source": [
    "Read in a data table..."
   ]
  },
  {
   "cell_type": "code",
   "execution_count": 4,
   "metadata": {
    "collapsed": true
   },
   "outputs": [],
   "source": [
    "d = fread('dat/2005_2009_ver2_42065_synth_people.txt')"
   ]
  },
  {
   "cell_type": "code",
   "execution_count": 11,
   "metadata": {},
   "outputs": [
    {
     "data": {
      "text/html": [
       "<table>\n",
       "<thead><tr><th scope=col>p_id</th><th scope=col>hh_id</th><th scope=col>serialno</th><th scope=col>stcotrbg</th><th scope=col>age</th><th scope=col>sex</th><th scope=col>race</th><th scope=col>sporder</th><th scope=col>relate</th><th scope=col>school_id</th><th scope=col>workplace_id</th></tr></thead>\n",
       "<tbody>\n",
       "\t<tr><td>416175660    </td><td>261526469    </td><td>2005000002176</td><td>420659503002 </td><td>86           </td><td>2            </td><td>1            </td><td>1            </td><td>0            </td><td>             </td><td>NA           </td></tr>\n",
       "\t<tr><td>416175661    </td><td>261526469    </td><td>2005000002176</td><td>420659503002 </td><td>92           </td><td>1            </td><td>1            </td><td>2            </td><td>1            </td><td>             </td><td>NA           </td></tr>\n",
       "\t<tr><td>416175676    </td><td>261533970    </td><td>2005000002176</td><td>420659508002 </td><td>86           </td><td>2            </td><td>1            </td><td>1            </td><td>0            </td><td>             </td><td>NA           </td></tr>\n",
       "\t<tr><td>416175677    </td><td>261533970    </td><td>2005000002176</td><td>420659508002 </td><td>92           </td><td>1            </td><td>1            </td><td>2            </td><td>1            </td><td>             </td><td>NA           </td></tr>\n",
       "\t<tr><td>416175678    </td><td>261526897    </td><td>2005000002176</td><td>420659503003 </td><td>86           </td><td>2            </td><td>1            </td><td>1            </td><td>0            </td><td>             </td><td>NA           </td></tr>\n",
       "\t<tr><td>416175679    </td><td>261526897    </td><td>2005000002176</td><td>420659503003 </td><td>92           </td><td>1            </td><td>1            </td><td>2            </td><td>1            </td><td>             </td><td>NA           </td></tr>\n",
       "</tbody>\n",
       "</table>\n"
      ],
      "text/latex": [
       "\\begin{tabular}{r|lllllllllll}\n",
       " p\\_id & hh\\_id & serialno & stcotrbg & age & sex & race & sporder & relate & school\\_id & workplace\\_id\\\\\n",
       "\\hline\n",
       "\t 416175660     & 261526469     & 2005000002176 & 420659503002  & 86            & 2             & 1             & 1             & 0             &               & NA           \\\\\n",
       "\t 416175661     & 261526469     & 2005000002176 & 420659503002  & 92            & 1             & 1             & 2             & 1             &               & NA           \\\\\n",
       "\t 416175676     & 261533970     & 2005000002176 & 420659508002  & 86            & 2             & 1             & 1             & 0             &               & NA           \\\\\n",
       "\t 416175677     & 261533970     & 2005000002176 & 420659508002  & 92            & 1             & 1             & 2             & 1             &               & NA           \\\\\n",
       "\t 416175678     & 261526897     & 2005000002176 & 420659503003  & 86            & 2             & 1             & 1             & 0             &               & NA           \\\\\n",
       "\t 416175679     & 261526897     & 2005000002176 & 420659503003  & 92            & 1             & 1             & 2             & 1             &               & NA           \\\\\n",
       "\\end{tabular}\n"
      ],
      "text/markdown": [
       "\n",
       "p_id | hh_id | serialno | stcotrbg | age | sex | race | sporder | relate | school_id | workplace_id | \n",
       "|---|---|---|---|---|---|\n",
       "| 416175660     | 261526469     | 2005000002176 | 420659503002  | 86            | 2             | 1             | 1             | 0             |               | NA            | \n",
       "| 416175661     | 261526469     | 2005000002176 | 420659503002  | 92            | 1             | 1             | 2             | 1             |               | NA            | \n",
       "| 416175676     | 261533970     | 2005000002176 | 420659508002  | 86            | 2             | 1             | 1             | 0             |               | NA            | \n",
       "| 416175677     | 261533970     | 2005000002176 | 420659508002  | 92            | 1             | 1             | 2             | 1             |               | NA            | \n",
       "| 416175678     | 261526897     | 2005000002176 | 420659503003  | 86            | 2             | 1             | 1             | 0             |               | NA            | \n",
       "| 416175679     | 261526897     | 2005000002176 | 420659503003  | 92            | 1             | 1             | 2             | 1             |               | NA            | \n",
       "\n",
       "\n"
      ],
      "text/plain": [
       "  p_id      hh_id     serialno      stcotrbg     age sex race sporder relate\n",
       "1 416175660 261526469 2005000002176 420659503002 86  2   1    1       0     \n",
       "2 416175661 261526469 2005000002176 420659503002 92  1   1    2       1     \n",
       "3 416175676 261533970 2005000002176 420659508002 86  2   1    1       0     \n",
       "4 416175677 261533970 2005000002176 420659508002 92  1   1    2       1     \n",
       "5 416175678 261526897 2005000002176 420659503003 86  2   1    1       0     \n",
       "6 416175679 261526897 2005000002176 420659503003 92  1   1    2       1     \n",
       "  school_id workplace_id\n",
       "1           NA          \n",
       "2           NA          \n",
       "3           NA          \n",
       "4           NA          \n",
       "5           NA          \n",
       "6           NA          "
      ]
     },
     "metadata": {},
     "output_type": "display_data"
    }
   ],
   "source": [
    "head(d)"
   ]
  },
  {
   "cell_type": "code",
   "execution_count": 6,
   "metadata": {},
   "outputs": [
    {
     "data": {
      "text/html": [
       "<ol class=list-inline>\n",
       "\t<li>32239</li>\n",
       "\t<li>12928</li>\n",
       "\t<li>23539</li>\n",
       "\t<li>37069</li>\n",
       "\t<li>22187</li>\n",
       "\t<li>41476</li>\n",
       "\t<li>20543</li>\n",
       "\t<li>10843</li>\n",
       "\t<li>16840</li>\n",
       "\t<li>13869</li>\n",
       "</ol>\n"
      ],
      "text/latex": [
       "\\begin{enumerate*}\n",
       "\\item 32239\n",
       "\\item 12928\n",
       "\\item 23539\n",
       "\\item 37069\n",
       "\\item 22187\n",
       "\\item 41476\n",
       "\\item 20543\n",
       "\\item 10843\n",
       "\\item 16840\n",
       "\\item 13869\n",
       "\\end{enumerate*}\n"
      ],
      "text/markdown": [
       "1. 32239\n",
       "2. 12928\n",
       "3. 23539\n",
       "4. 37069\n",
       "5. 22187\n",
       "6. 41476\n",
       "7. 20543\n",
       "8. 10843\n",
       "9. 16840\n",
       "10. 13869\n",
       "\n",
       "\n"
      ],
      "text/plain": [
       " [1] 32239 12928 23539 37069 22187 41476 20543 10843 16840 13869"
      ]
     },
     "metadata": {},
     "output_type": "display_data"
    }
   ],
   "source": [
    "sample(nrow(d),10)"
   ]
  },
  {
   "cell_type": "markdown",
   "metadata": {},
   "source": [
    "# Serial example\n",
    "\n",
    "A nice feature of `foreach` is that you can easily test in serial and then convert to parallel by substituting `%dopar%`"
   ]
  },
  {
   "cell_type": "code",
   "execution_count": 21,
   "metadata": {},
   "outputs": [
    {
     "data": {
      "text/html": [
       "<ol>\n",
       "\t<li>40.3</li>\n",
       "\t<li>41.4</li>\n",
       "\t<li>32.1</li>\n",
       "\t<li>48.2</li>\n",
       "\t<li>43.2</li>\n",
       "\t<li>58.6</li>\n",
       "\t<li>47.9</li>\n",
       "\t<li>44</li>\n",
       "\t<li>35.6</li>\n",
       "\t<li>44.2</li>\n",
       "</ol>\n"
      ],
      "text/latex": [
       "\\begin{enumerate}\n",
       "\\item 40.3\n",
       "\\item 41.4\n",
       "\\item 32.1\n",
       "\\item 48.2\n",
       "\\item 43.2\n",
       "\\item 58.6\n",
       "\\item 47.9\n",
       "\\item 44\n",
       "\\item 35.6\n",
       "\\item 44.2\n",
       "\\end{enumerate}\n"
      ],
      "text/markdown": [
       "1. 40.3\n",
       "2. 41.4\n",
       "3. 32.1\n",
       "4. 48.2\n",
       "5. 43.2\n",
       "6. 58.6\n",
       "7. 47.9\n",
       "8. 44\n",
       "9. 35.6\n",
       "10. 44.2\n",
       "\n",
       "\n"
      ],
      "text/plain": [
       "[[1]]\n",
       "[1] 40.3\n",
       "\n",
       "[[2]]\n",
       "[1] 41.4\n",
       "\n",
       "[[3]]\n",
       "[1] 32.1\n",
       "\n",
       "[[4]]\n",
       "[1] 48.2\n",
       "\n",
       "[[5]]\n",
       "[1] 43.2\n",
       "\n",
       "[[6]]\n",
       "[1] 58.6\n",
       "\n",
       "[[7]]\n",
       "[1] 47.9\n",
       "\n",
       "[[8]]\n",
       "[1] 44\n",
       "\n",
       "[[9]]\n",
       "[1] 35.6\n",
       "\n",
       "[[10]]\n",
       "[1] 44.2\n"
      ]
     },
     "metadata": {},
     "output_type": "display_data"
    }
   ],
   "source": [
    "foreach (i=seq(10)) %do% {\n",
    "    mean(d[sample(nrow(d), 10)]$age)\n",
    "}"
   ]
  },
  {
   "cell_type": "markdown",
   "metadata": {},
   "source": [
    "# Parallel example\n",
    "\n",
    "The default behavior of foreach is to return a `list`.  This can be changed by altering the `.combine` function (in this case, use the `c()` function to concatenate into a vector"
   ]
  },
  {
   "cell_type": "code",
   "execution_count": 22,
   "metadata": {},
   "outputs": [
    {
     "data": {
      "text/html": [
       "<ol class=list-inline>\n",
       "\t<li>38.5</li>\n",
       "\t<li>46.4</li>\n",
       "\t<li>42.5</li>\n",
       "\t<li>42.4</li>\n",
       "\t<li>51.9</li>\n",
       "\t<li>41.2</li>\n",
       "\t<li>43.2</li>\n",
       "\t<li>34.8</li>\n",
       "\t<li>39.8</li>\n",
       "\t<li>49.2</li>\n",
       "</ol>\n"
      ],
      "text/latex": [
       "\\begin{enumerate*}\n",
       "\\item 38.5\n",
       "\\item 46.4\n",
       "\\item 42.5\n",
       "\\item 42.4\n",
       "\\item 51.9\n",
       "\\item 41.2\n",
       "\\item 43.2\n",
       "\\item 34.8\n",
       "\\item 39.8\n",
       "\\item 49.2\n",
       "\\end{enumerate*}\n"
      ],
      "text/markdown": [
       "1. 38.5\n",
       "2. 46.4\n",
       "3. 42.5\n",
       "4. 42.4\n",
       "5. 51.9\n",
       "6. 41.2\n",
       "7. 43.2\n",
       "8. 34.8\n",
       "9. 39.8\n",
       "10. 49.2\n",
       "\n",
       "\n"
      ],
      "text/plain": [
       " [1] 38.5 46.4 42.5 42.4 51.9 41.2 43.2 34.8 39.8 49.2"
      ]
     },
     "metadata": {},
     "output_type": "display_data"
    }
   ],
   "source": [
    "foreach (i=seq(10), .combine=c) %dopar% {\n",
    "    mean(d[sample(nrow(d), 10)]$age)\n",
    "}"
   ]
  },
  {
   "cell_type": "markdown",
   "metadata": {
    "collapsed": true
   },
   "source": [
    "Next: [Parallel interaction with system calls](Parallel interaction with system calls.ipynb)"
   ]
  },
  {
   "cell_type": "code",
   "execution_count": null,
   "metadata": {
    "collapsed": true
   },
   "outputs": [],
   "source": []
  }
 ],
 "metadata": {
  "kernelspec": {
   "display_name": "R",
   "language": "R",
   "name": "ir"
  },
  "language_info": {
   "codemirror_mode": "r",
   "file_extension": ".r",
   "mimetype": "text/x-r-source",
   "name": "R",
   "pygments_lexer": "r",
   "version": "3.3.2"
  }
 },
 "nbformat": 4,
 "nbformat_minor": 2
}
