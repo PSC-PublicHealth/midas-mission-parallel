{
 "cells": [
  {
   "cell_type": "markdown",
   "metadata": {},
   "source": [
    "# Parallelism in R\n",
    "\n",
    "R offers a number of alternative ways to exploit multiple cores and multiple machines.\n",
    "\n",
    "In many ways, the support for parallel execution in R is richer and more flexible than in python\n",
    "\n",
    "# R `parallel` package\n",
    "\n",
    "For R users already using `apply`-type methods that \"just work\".  These methods have all of advantages (compact, terse syntax) and disadvantages (compact, terse syntax) as their standar"
   ]
  },
  {
   "cell_type": "code",
   "execution_count": 2,
   "metadata": {},
   "outputs": [],
   "source": [
    "require(foreach)\n",
    "require(parallel)\n",
    "require(bit64)\n",
    "require(data.table)"
   ]
  },
  {
   "cell_type": "markdown",
   "metadata": {},
   "source": [
    "The following command sets us up to use the simple multi-core (MC) or parallel backend\n",
    "\n",
    "on Windows use doParallel, on linux or OSX use doMC"
   ]
  },
  {
   "cell_type": "code",
   "execution_count": 3,
   "metadata": {},
   "outputs": [
    {
     "name": "stderr",
     "output_type": "stream",
     "text": [
      "Loading required package: doMC\n",
      "Loading required package: iterators\n"
     ]
    }
   ],
   "source": [
    "require(doMC)\n",
    "registerDoMC()\n",
    "#require(doParallel)\n",
    "#registerDoParallel()"
   ]
  },
  {
   "cell_type": "code",
   "execution_count": 4,
   "metadata": {},
   "outputs": [],
   "source": [
    "d = fread('dat/2005_2009_ver2_42065_synth_people.txt')"
   ]
  },
  {
   "cell_type": "code",
   "execution_count": 11,
   "metadata": {},
   "outputs": [
    {
     "data": {
      "text/html": [
       "<table>\n",
       "<thead><tr><th scope=col>p_id</th><th scope=col>hh_id</th><th scope=col>serialno</th><th scope=col>stcotrbg</th><th scope=col>age</th><th scope=col>sex</th><th scope=col>race</th><th scope=col>sporder</th><th scope=col>relate</th><th scope=col>school_id</th><th scope=col>workplace_id</th></tr></thead>\n",
       "<tbody>\n",
       "\t<tr><td>416175660    </td><td>261526469    </td><td>2005000002176</td><td>420659503002 </td><td>86           </td><td>2            </td><td>1            </td><td>1            </td><td>0            </td><td>             </td><td>NA           </td></tr>\n",
       "\t<tr><td>416175661    </td><td>261526469    </td><td>2005000002176</td><td>420659503002 </td><td>92           </td><td>1            </td><td>1            </td><td>2            </td><td>1            </td><td>             </td><td>NA           </td></tr>\n",
       "\t<tr><td>416175676    </td><td>261533970    </td><td>2005000002176</td><td>420659508002 </td><td>86           </td><td>2            </td><td>1            </td><td>1            </td><td>0            </td><td>             </td><td>NA           </td></tr>\n",
       "\t<tr><td>416175677    </td><td>261533970    </td><td>2005000002176</td><td>420659508002 </td><td>92           </td><td>1            </td><td>1            </td><td>2            </td><td>1            </td><td>             </td><td>NA           </td></tr>\n",
       "\t<tr><td>416175678    </td><td>261526897    </td><td>2005000002176</td><td>420659503003 </td><td>86           </td><td>2            </td><td>1            </td><td>1            </td><td>0            </td><td>             </td><td>NA           </td></tr>\n",
       "\t<tr><td>416175679    </td><td>261526897    </td><td>2005000002176</td><td>420659503003 </td><td>92           </td><td>1            </td><td>1            </td><td>2            </td><td>1            </td><td>             </td><td>NA           </td></tr>\n",
       "</tbody>\n",
       "</table>\n"
      ],
      "text/latex": [
       "\\begin{tabular}{r|lllllllllll}\n",
       " p\\_id & hh\\_id & serialno & stcotrbg & age & sex & race & sporder & relate & school\\_id & workplace\\_id\\\\\n",
       "\\hline\n",
       "\t 416175660     & 261526469     & 2005000002176 & 420659503002  & 86            & 2             & 1             & 1             & 0             &               & NA           \\\\\n",
       "\t 416175661     & 261526469     & 2005000002176 & 420659503002  & 92            & 1             & 1             & 2             & 1             &               & NA           \\\\\n",
       "\t 416175676     & 261533970     & 2005000002176 & 420659508002  & 86            & 2             & 1             & 1             & 0             &               & NA           \\\\\n",
       "\t 416175677     & 261533970     & 2005000002176 & 420659508002  & 92            & 1             & 1             & 2             & 1             &               & NA           \\\\\n",
       "\t 416175678     & 261526897     & 2005000002176 & 420659503003  & 86            & 2             & 1             & 1             & 0             &               & NA           \\\\\n",
       "\t 416175679     & 261526897     & 2005000002176 & 420659503003  & 92            & 1             & 1             & 2             & 1             &               & NA           \\\\\n",
       "\\end{tabular}\n"
      ],
      "text/markdown": [
       "\n",
       "p_id | hh_id | serialno | stcotrbg | age | sex | race | sporder | relate | school_id | workplace_id | \n",
       "|---|---|---|---|---|---|\n",
       "| 416175660     | 261526469     | 2005000002176 | 420659503002  | 86            | 2             | 1             | 1             | 0             |               | NA            | \n",
       "| 416175661     | 261526469     | 2005000002176 | 420659503002  | 92            | 1             | 1             | 2             | 1             |               | NA            | \n",
       "| 416175676     | 261533970     | 2005000002176 | 420659508002  | 86            | 2             | 1             | 1             | 0             |               | NA            | \n",
       "| 416175677     | 261533970     | 2005000002176 | 420659508002  | 92            | 1             | 1             | 2             | 1             |               | NA            | \n",
       "| 416175678     | 261526897     | 2005000002176 | 420659503003  | 86            | 2             | 1             | 1             | 0             |               | NA            | \n",
       "| 416175679     | 261526897     | 2005000002176 | 420659503003  | 92            | 1             | 1             | 2             | 1             |               | NA            | \n",
       "\n",
       "\n"
      ],
      "text/plain": [
       "  p_id      hh_id     serialno      stcotrbg     age sex race sporder relate\n",
       "1 416175660 261526469 2005000002176 420659503002 86  2   1    1       0     \n",
       "2 416175661 261526469 2005000002176 420659503002 92  1   1    2       1     \n",
       "3 416175676 261533970 2005000002176 420659508002 86  2   1    1       0     \n",
       "4 416175677 261533970 2005000002176 420659508002 92  1   1    2       1     \n",
       "5 416175678 261526897 2005000002176 420659503003 86  2   1    1       0     \n",
       "6 416175679 261526897 2005000002176 420659503003 92  1   1    2       1     \n",
       "  school_id workplace_id\n",
       "1           NA          \n",
       "2           NA          \n",
       "3           NA          \n",
       "4           NA          \n",
       "5           NA          \n",
       "6           NA          "
      ]
     },
     "metadata": {},
     "output_type": "display_data"
    }
   ],
   "source": [
    "head(d)"
   ]
  },
  {
   "cell_type": "code",
   "execution_count": 6,
   "metadata": {},
   "outputs": [
    {
     "data": {
      "text/html": [
       "<ol class=list-inline>\n",
       "\t<li>32239</li>\n",
       "\t<li>12928</li>\n",
       "\t<li>23539</li>\n",
       "\t<li>37069</li>\n",
       "\t<li>22187</li>\n",
       "\t<li>41476</li>\n",
       "\t<li>20543</li>\n",
       "\t<li>10843</li>\n",
       "\t<li>16840</li>\n",
       "\t<li>13869</li>\n",
       "</ol>\n"
      ],
      "text/latex": [
       "\\begin{enumerate*}\n",
       "\\item 32239\n",
       "\\item 12928\n",
       "\\item 23539\n",
       "\\item 37069\n",
       "\\item 22187\n",
       "\\item 41476\n",
       "\\item 20543\n",
       "\\item 10843\n",
       "\\item 16840\n",
       "\\item 13869\n",
       "\\end{enumerate*}\n"
      ],
      "text/markdown": [
       "1. 32239\n",
       "2. 12928\n",
       "3. 23539\n",
       "4. 37069\n",
       "5. 22187\n",
       "6. 41476\n",
       "7. 20543\n",
       "8. 10843\n",
       "9. 16840\n",
       "10. 13869\n",
       "\n",
       "\n"
      ],
      "text/plain": [
       " [1] 32239 12928 23539 37069 22187 41476 20543 10843 16840 13869"
      ]
     },
     "metadata": {},
     "output_type": "display_data"
    }
   ],
   "source": [
    "sample(nrow(d),10)"
   ]
  },
  {
   "cell_type": "code",
   "execution_count": 20,
   "metadata": {},
   "outputs": [
    {
     "data": {
      "text/html": [
       "<ol>\n",
       "\t<li>41.2</li>\n",
       "\t<li>38.4</li>\n",
       "\t<li>36.8</li>\n",
       "\t<li>48.7</li>\n",
       "\t<li>38.6</li>\n",
       "\t<li>42.8</li>\n",
       "\t<li>42.1</li>\n",
       "\t<li>26.4</li>\n",
       "\t<li>33.8</li>\n",
       "\t<li>34.1</li>\n",
       "</ol>\n"
      ],
      "text/latex": [
       "\\begin{enumerate}\n",
       "\\item 41.2\n",
       "\\item 38.4\n",
       "\\item 36.8\n",
       "\\item 48.7\n",
       "\\item 38.6\n",
       "\\item 42.8\n",
       "\\item 42.1\n",
       "\\item 26.4\n",
       "\\item 33.8\n",
       "\\item 34.1\n",
       "\\end{enumerate}\n"
      ],
      "text/markdown": [
       "1. 41.2\n",
       "2. 38.4\n",
       "3. 36.8\n",
       "4. 48.7\n",
       "5. 38.6\n",
       "6. 42.8\n",
       "7. 42.1\n",
       "8. 26.4\n",
       "9. 33.8\n",
       "10. 34.1\n",
       "\n",
       "\n"
      ],
      "text/plain": [
       "[[1]]\n",
       "[1] 41.2\n",
       "\n",
       "[[2]]\n",
       "[1] 38.4\n",
       "\n",
       "[[3]]\n",
       "[1] 36.8\n",
       "\n",
       "[[4]]\n",
       "[1] 48.7\n",
       "\n",
       "[[5]]\n",
       "[1] 38.6\n",
       "\n",
       "[[6]]\n",
       "[1] 42.8\n",
       "\n",
       "[[7]]\n",
       "[1] 42.1\n",
       "\n",
       "[[8]]\n",
       "[1] 26.4\n",
       "\n",
       "[[9]]\n",
       "[1] 33.8\n",
       "\n",
       "[[10]]\n",
       "[1] 34.1\n"
      ]
     },
     "metadata": {},
     "output_type": "display_data"
    }
   ],
   "source": [
    "foreach (i=seq(10)) %do% {\n",
    "    mean(d[sample(nrow(d), 10)]$age)\n",
    "}"
   ]
  },
  {
   "cell_type": "code",
   "execution_count": 15,
   "metadata": {},
   "outputs": [
    {
     "data": {
      "text/html": [
       "<ol class=list-inline>\n",
       "\t<li>59.6</li>\n",
       "\t<li>31.8</li>\n",
       "\t<li>45.3</li>\n",
       "\t<li>37.3</li>\n",
       "\t<li>29.2</li>\n",
       "\t<li>40.5</li>\n",
       "\t<li>36.8</li>\n",
       "\t<li>42</li>\n",
       "\t<li>36.3</li>\n",
       "\t<li>36.5</li>\n",
       "</ol>\n"
      ],
      "text/latex": [
       "\\begin{enumerate*}\n",
       "\\item 59.6\n",
       "\\item 31.8\n",
       "\\item 45.3\n",
       "\\item 37.3\n",
       "\\item 29.2\n",
       "\\item 40.5\n",
       "\\item 36.8\n",
       "\\item 42\n",
       "\\item 36.3\n",
       "\\item 36.5\n",
       "\\end{enumerate*}\n"
      ],
      "text/markdown": [
       "1. 59.6\n",
       "2. 31.8\n",
       "3. 45.3\n",
       "4. 37.3\n",
       "5. 29.2\n",
       "6. 40.5\n",
       "7. 36.8\n",
       "8. 42\n",
       "9. 36.3\n",
       "10. 36.5\n",
       "\n",
       "\n"
      ],
      "text/plain": [
       " [1] 59.6 31.8 45.3 37.3 29.2 40.5 36.8 42.0 36.3 36.5"
      ]
     },
     "metadata": {},
     "output_type": "display_data"
    }
   ],
   "source": [
    "foreach (i=seq(10), .combine=c) %do% {\n",
    "    mean(d[sample(nrow(d), 10)]$age)\n",
    "}"
   ]
  },
  {
   "cell_type": "code",
   "execution_count": null,
   "metadata": {
    "collapsed": true
   },
   "outputs": [],
   "source": []
  }
 ],
 "metadata": {
  "kernelspec": {
   "display_name": "R",
   "language": "R",
   "name": "ir"
  },
  "language_info": {
   "codemirror_mode": "r",
   "file_extension": ".r",
   "mimetype": "text/x-r-source",
   "name": "R",
   "pygments_lexer": "r",
   "version": "3.3.2"
  }
 },
 "nbformat": 4,
 "nbformat_minor": 2
}
