{
 "cells": [
  {
   "cell_type": "code",
   "execution_count": 3,
   "metadata": {},
   "outputs": [
    {
     "name": "stdout",
     "output_type": "stream",
     "text": [
      "The autotime extension is already loaded. To reload it, use:\n",
      "  %reload_ext autotime\n",
      "time: 4.76 ms\n"
     ]
    }
   ],
   "source": [
    "%load_ext autotime\n",
    "import sh\n",
    "import concurrent.futures"
   ]
  },
  {
   "cell_type": "markdown",
   "metadata": {},
   "source": [
    "# The `sh` module\n",
    "\n",
    "A replacement for `subprocess` that allows easier interaction with system calls.\n",
    "\n",
    "https://amoffat.github.io/sh/\n",
    "\n",
    "This module instantly exposes any system command as a python function.\n",
    "\n",
    "Doesn't provide any functionality not available in subprocess, but it much more concise and convenient.\n",
    "\n",
    "Particularly handy for running commands over ssh, or setting up ssh tunnels."
   ]
  },
  {
   "cell_type": "code",
   "execution_count": 4,
   "metadata": {},
   "outputs": [
    {
     "data": {
      "text/plain": [
       " 1188113 dat/2010_ver1_42003_synth_people.txt"
      ]
     },
     "execution_count": 4,
     "metadata": {},
     "output_type": "execute_result"
    },
    {
     "name": "stdout",
     "output_type": "stream",
     "text": [
      "time: 302 ms\n"
     ]
    }
   ],
   "source": [
    "# use \"wc\" as an example... try anything else that you can think of\n",
    "sh.wc('-l','dat/2010_ver1_42003_synth_people.txt')"
   ]
  },
  {
   "cell_type": "markdown",
   "metadata": {},
   "source": [
    "# Multiprocessing through a batch queue\n",
    "\n",
    "In situations where:\n",
    "\n",
    "* The amount of work isn't known ahead of time\n",
    "* An iterative process, where the parameters of job(n+1) depend on the output of job(n)\n",
    "* More than the phsical memory and number of cores avalable on a single node are required\n",
    "* Additional centralized logic is needed\n",
    "* It's not necessary (or feasible) to store intermediate results\n",
    "* Function output can be serialized (either to a file, or string)\n",
    "\n",
    "When some or all of the above apply, it can be very effective to wrap the function to be executed in \"`qsub`\" job and submit it to the queue."
   ]
  },
  {
   "cell_type": "markdown",
   "metadata": {},
   "source": [
    "## General idea:\n",
    "\n",
    "* `qsub` can be invoked using the `sh` module\n",
    "* Environment variables can be passed with `-v` option to `qsub`\n",
    "* When supplied with the `-Ix` options, the `qsub` command will block until the submitted job has completed\n",
    "\n",
    "Combine this with `concurrent.futures.ThreadPoolExecutor` and you can any number multiple concurrent jobs through the queue and collect the output in your python program"
   ]
  },
  {
   "cell_type": "code",
   "execution_count": 7,
   "metadata": {},
   "outputs": [
    {
     "name": "stdout",
     "output_type": "stream",
     "text": [
      "time: 3.06 ms\n"
     ]
    }
   ],
   "source": [
    "import os\n",
    "dat_dir = os.path.join(os.getcwd(),'dat')"
   ]
  },
  {
   "cell_type": "code",
   "execution_count": null,
   "metadata": {
    "collapsed": true
   },
   "outputs": [],
   "source": []
  }
 ],
 "metadata": {
  "kernelspec": {
   "display_name": "Python 3",
   "language": "python",
   "name": "python3"
  },
  "language_info": {
   "codemirror_mode": {
    "name": "ipython",
    "version": 3
   },
   "file_extension": ".py",
   "mimetype": "text/x-python",
   "name": "python",
   "nbconvert_exporter": "python",
   "pygments_lexer": "ipython3",
   "version": "3.6.1"
  }
 },
 "nbformat": 4,
 "nbformat_minor": 2
}
