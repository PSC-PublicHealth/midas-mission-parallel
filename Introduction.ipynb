{
 "cells": [
  {
   "cell_type": "markdown",
   "metadata": {},
   "source": [
    "# Parallel processing allows us to solve larger problems in less time - what's not to like?\n",
    "\n",
    "It's not as simple to make use of multiple cores or multiple hosts to get real work done."
   ]
  },
  {
   "cell_type": "markdown",
   "metadata": {},
   "source": [
    "# So what is exactly is the problem?\n",
    "\n",
    "Basically: synchronization.  When multiple threads, processes, or machines are working together, we have to ensure that\n",
    "the data that they share and exchange are consistent."
   ]
  },
  {
   "cell_type": "markdown",
   "metadata": {},
   "source": [
    "# Threads, processes, or separate machines?"
   ]
  },
  {
   "cell_type": "markdown",
   "metadata": {},
   "source": [
    "## Threads\n",
    "\n",
    "Threads are separate chains of execution that share the same memory space.  When a child thread is created, it shares all of the same memory addresses as its parent."
   ]
  },
  {
   "cell_type": "markdown",
   "metadata": {},
   "source": [
    "## Processes\n",
    "\n",
    "Each process can be viewed as self-sufficient.  A process doesn't need to share anything with any other process.  Special steps have to be taken to exchange data among processes"
   ]
  },
  {
   "cell_type": "markdown",
   "metadata": {},
   "source": [
    "## Machines\n",
    "\n",
    "Processes running on different machines are more limited in the ways that they can exchange data.  The communication between processes running on different machines is necessarily slower since the exchange must happen through a network connection"
   ]
  },
  {
   "cell_type": "markdown",
   "metadata": {},
   "source": [
    "# Solutions\n",
    "\n",
    "Thankfully, both R and python provide high-level interfaces that make the use of basic parallelism very easy.\n",
    "\n",
    "This will "
   ]
  },
  {
   "cell_type": "markdown",
   "metadata": {},
   "source": [
    "# Notes on this tutorial\n",
    "\n",
    "This tutorial is available at: https://github.com/PSC-PublicHealth/midas-mission-parallel\n",
    "\n",
    "Feel free to run these notebooks directly on your local machine.  Alternatively, the code can be transferred into text files and executed directly.  This latter approach may be needed if you are working on the olympus cluster."
   ]
  },
  {
   "cell_type": "markdown",
   "metadata": {
    "collapsed": true
   },
   "source": [
    "\n",
    "\n",
    "\n",
    "Next: [Parallelism in Python](Parallelism in python.ipynb)"
   ]
  },
  {
   "cell_type": "code",
   "execution_count": null,
   "metadata": {
    "collapsed": true
   },
   "outputs": [],
   "source": []
  }
 ],
 "metadata": {
  "kernelspec": {
   "display_name": "Python 3",
   "language": "python",
   "name": "python3"
  },
  "language_info": {
   "codemirror_mode": {
    "name": "ipython",
    "version": 3
   },
   "file_extension": ".py",
   "mimetype": "text/x-python",
   "name": "python",
   "nbconvert_exporter": "python",
   "pygments_lexer": "ipython3",
   "version": "3.6.1"
  }
 },
 "nbformat": 4,
 "nbformat_minor": 2
}
