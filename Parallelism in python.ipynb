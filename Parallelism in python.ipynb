{
 "cells": [
  {
   "cell_type": "markdown",
   "metadata": {},
   "source": [
    "# Parallelism in python\n",
    "\n",
    "Python does support multiple threads.  However, because of the Global Interpreter Lock (GIL), this means that only one thread at a time can access any python object.\n",
    "\n",
    "This means that without additional work (e.g., compiled extensions, Cython, f2py) we can't really use more than one CPU core at a time with python threads.\n",
    "\n",
    "While many common tasks do actually rely on compiled extensions that release the GIL (e.g., numpy), this doesn't help much for custom python code.  As we'll see below, the syntax used for multiprocessing and multithreading is similar enough that both can evaluated with very few code changes."
   ]
  },
  {
   "cell_type": "markdown",
   "metadata": {},
   "source": [
    "# Multiprocessing in python\n",
    "\n",
    "There are two different ways to accomplish multiprocess parallelism in python.\n",
    "\n",
    "* the `multiprocessing` module: older, more complicated interface\n",
    "* the `concurrent.futures` modeule: simpler interface, easier to switch the backend from threading to multiprocessing"
   ]
  },
  {
   "cell_type": "markdown",
   "metadata": {},
   "source": [
    "## Multiprocessing on Windows\n",
    "\n",
    "On UNIX platforms, new processes are created with fork, and they inherit all data structures from the parent process (copy-on-write).  On windows this is NOT the case.\n",
    "\n",
    "Since the focus of this tutorial is on the UNIX environment of HPC clusters, we'll ignore this wrinkle, but keep in mind when developing cross-platform code."
   ]
  },
  {
   "cell_type": "code",
   "execution_count": null,
   "metadata": {
    "collapsed": true
   },
   "outputs": [],
   "source": []
  }
 ],
 "metadata": {
  "kernelspec": {
   "display_name": "Python 3",
   "language": "python",
   "name": "python3"
  },
  "language_info": {
   "codemirror_mode": {
    "name": "ipython",
    "version": 3
   },
   "file_extension": ".py",
   "mimetype": "text/x-python",
   "name": "python",
   "nbconvert_exporter": "python",
   "pygments_lexer": "ipython3",
   "version": "3.6.1"
  }
 },
 "nbformat": 4,
 "nbformat_minor": 2
}
