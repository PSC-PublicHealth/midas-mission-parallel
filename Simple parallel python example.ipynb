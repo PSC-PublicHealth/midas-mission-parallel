{
 "cells": [
  {
   "cell_type": "code",
   "execution_count": 1,
   "metadata": {
    "collapsed": true
   },
   "outputs": [],
   "source": [
    "%load_ext autotime\n",
    "import pandas as pd\n",
    "import numpy as np\n",
    "import concurrent.futures"
   ]
  },
  {
   "cell_type": "code",
   "execution_count": 2,
   "metadata": {},
   "outputs": [
    {
     "name": "stdout",
     "output_type": "stream",
     "text": [
      "time: 2.36 s\n"
     ]
    }
   ],
   "source": [
    "population = pd.read_csv('dat/2010_ver1_42003_synth_people.txt')"
   ]
  },
  {
   "cell_type": "code",
   "execution_count": 3,
   "metadata": {},
   "outputs": [
    {
     "data": {
      "text/html": [
       "<div>\n",
       "<style>\n",
       "    .dataframe thead tr:only-child th {\n",
       "        text-align: right;\n",
       "    }\n",
       "\n",
       "    .dataframe thead th {\n",
       "        text-align: left;\n",
       "    }\n",
       "\n",
       "    .dataframe tbody tr th {\n",
       "        vertical-align: top;\n",
       "    }\n",
       "</style>\n",
       "<table border=\"1\" class=\"dataframe\">\n",
       "  <thead>\n",
       "    <tr style=\"text-align: right;\">\n",
       "      <th></th>\n",
       "      <th>sp_id</th>\n",
       "      <th>sp_hh_id</th>\n",
       "      <th>serialno</th>\n",
       "      <th>stcotrbg</th>\n",
       "      <th>age</th>\n",
       "      <th>sex</th>\n",
       "      <th>race</th>\n",
       "      <th>sporder</th>\n",
       "      <th>relate</th>\n",
       "      <th>sp_school_id</th>\n",
       "      <th>sp_work_id</th>\n",
       "    </tr>\n",
       "  </thead>\n",
       "  <tbody>\n",
       "    <tr>\n",
       "      <th>0</th>\n",
       "      <td>164091696</td>\n",
       "      <td>14350288</td>\n",
       "      <td>2007000946432</td>\n",
       "      <td>420035094001</td>\n",
       "      <td>24</td>\n",
       "      <td>1</td>\n",
       "      <td>1</td>\n",
       "      <td>1</td>\n",
       "      <td>0</td>\n",
       "      <td>NaN</td>\n",
       "      <td>513967705.0</td>\n",
       "    </tr>\n",
       "    <tr>\n",
       "      <th>1</th>\n",
       "      <td>164091697</td>\n",
       "      <td>14354678</td>\n",
       "      <td>2007000946432</td>\n",
       "      <td>420035128001</td>\n",
       "      <td>24</td>\n",
       "      <td>1</td>\n",
       "      <td>1</td>\n",
       "      <td>1</td>\n",
       "      <td>0</td>\n",
       "      <td>NaN</td>\n",
       "      <td>513980750.0</td>\n",
       "    </tr>\n",
       "    <tr>\n",
       "      <th>2</th>\n",
       "      <td>164091698</td>\n",
       "      <td>14367662</td>\n",
       "      <td>2007000946432</td>\n",
       "      <td>420035200011</td>\n",
       "      <td>24</td>\n",
       "      <td>1</td>\n",
       "      <td>1</td>\n",
       "      <td>1</td>\n",
       "      <td>0</td>\n",
       "      <td>NaN</td>\n",
       "      <td>513949983.0</td>\n",
       "    </tr>\n",
       "    <tr>\n",
       "      <th>3</th>\n",
       "      <td>164091701</td>\n",
       "      <td>14487997</td>\n",
       "      <td>2007000946432</td>\n",
       "      <td>420035213021</td>\n",
       "      <td>24</td>\n",
       "      <td>1</td>\n",
       "      <td>1</td>\n",
       "      <td>1</td>\n",
       "      <td>0</td>\n",
       "      <td>NaN</td>\n",
       "      <td>513977007.0</td>\n",
       "    </tr>\n",
       "    <tr>\n",
       "      <th>4</th>\n",
       "      <td>164091704</td>\n",
       "      <td>14494399</td>\n",
       "      <td>2007000946432</td>\n",
       "      <td>420035220001</td>\n",
       "      <td>24</td>\n",
       "      <td>1</td>\n",
       "      <td>1</td>\n",
       "      <td>1</td>\n",
       "      <td>0</td>\n",
       "      <td>NaN</td>\n",
       "      <td>513965846.0</td>\n",
       "    </tr>\n",
       "  </tbody>\n",
       "</table>\n",
       "</div>"
      ],
      "text/plain": [
       "       sp_id  sp_hh_id       serialno      stcotrbg  age  sex  race  sporder  \\\n",
       "0  164091696  14350288  2007000946432  420035094001   24    1     1        1   \n",
       "1  164091697  14354678  2007000946432  420035128001   24    1     1        1   \n",
       "2  164091698  14367662  2007000946432  420035200011   24    1     1        1   \n",
       "3  164091701  14487997  2007000946432  420035213021   24    1     1        1   \n",
       "4  164091704  14494399  2007000946432  420035220001   24    1     1        1   \n",
       "\n",
       "   relate  sp_school_id   sp_work_id  \n",
       "0       0           NaN  513967705.0  \n",
       "1       0           NaN  513980750.0  \n",
       "2       0           NaN  513949983.0  \n",
       "3       0           NaN  513977007.0  \n",
       "4       0           NaN  513965846.0  "
      ]
     },
     "execution_count": 3,
     "metadata": {},
     "output_type": "execute_result"
    },
    {
     "name": "stdout",
     "output_type": "stream",
     "text": [
      "time: 79.5 ms\n"
     ]
    }
   ],
   "source": [
    "population.head()"
   ]
  },
  {
   "cell_type": "markdown",
   "metadata": {},
   "source": [
    "# Task: randomly sample the population and summarize the age distribution"
   ]
  },
  {
   "cell_type": "code",
   "execution_count": 4,
   "metadata": {},
   "outputs": [
    {
     "data": {
      "text/plain": [
       "79"
      ]
     },
     "execution_count": 4,
     "metadata": {},
     "output_type": "execute_result"
    },
    {
     "name": "stdout",
     "output_type": "stream",
     "text": [
      "time: 87.4 ms\n"
     ]
    }
   ],
   "source": [
    "population.loc[np.random.randint(0, len(population), 10), 'age'].max()"
   ]
  },
  {
   "cell_type": "code",
   "execution_count": 5,
   "metadata": {},
   "outputs": [
    {
     "name": "stdout",
     "output_type": "stream",
     "text": [
      "time: 22.8 s\n"
     ]
    }
   ],
   "source": [
    "def get_max_age(n):\n",
    "    #print(id(population))\n",
    "    #print('Sample number %d' % n)\n",
    "    return population.loc[np.random.randint(0, len(population), 100000), 'age'].max()\n",
    "\n",
    "with concurrent.futures.ProcessPoolExecutor() as executor:\n",
    "    samples = list(range(100))\n",
    "    for sample_number, max_age in zip(samples, executor.map(get_max_age, samples)):\n",
    "        pass"
   ]
  },
  {
   "cell_type": "code",
   "execution_count": 6,
   "metadata": {},
   "outputs": [
    {
     "name": "stdout",
     "output_type": "stream",
     "text": [
      "time: 46 s\n"
     ]
    }
   ],
   "source": [
    "def get_max_age(n):\n",
    "    #print(id(population))\n",
    "    #print('Sample number %d' % n)\n",
    "    return population.loc[np.random.randint(0, len(population), 100000), 'age'].max()\n",
    "\n",
    "with concurrent.futures.ThreadPoolExecutor() as executor:\n",
    "    samples = list(range(100))\n",
    "    for sample_number, max_age in zip(samples, executor.map(get_max_age, samples)):\n",
    "        pass"
   ]
  },
  {
   "cell_type": "code",
   "execution_count": null,
   "metadata": {
    "collapsed": true
   },
   "outputs": [],
   "source": []
  }
 ],
 "metadata": {
  "kernelspec": {
   "display_name": "Python 3",
   "language": "python",
   "name": "python3"
  },
  "language_info": {
   "codemirror_mode": {
    "name": "ipython",
    "version": 3
   },
   "file_extension": ".py",
   "mimetype": "text/x-python",
   "name": "python",
   "nbconvert_exporter": "python",
   "pygments_lexer": "ipython3",
   "version": "3.6.1"
  }
 },
 "nbformat": 4,
 "nbformat_minor": 2
}
