{
 "cells": [
  {
   "cell_type": "code",
   "execution_count": 1,
   "metadata": {
    "collapsed": true
   },
   "outputs": [],
   "source": [
    "%load_ext autotime\n",
    "import pandas as pd\n",
    "import numpy as np\n",
    "import concurrent.futures"
   ]
  },
  {
   "cell_type": "code",
   "execution_count": 38,
   "metadata": {},
   "outputs": [
    {
     "name": "stdout",
     "output_type": "stream",
     "text": [
      "time: 166 ms\n"
     ]
    }
   ],
   "source": [
    "population = pd.read_csv('dat/2005_2009_ver2_42065_synth_people.txt')"
   ]
  },
  {
   "cell_type": "code",
   "execution_count": 39,
   "metadata": {},
   "outputs": [
    {
     "data": {
      "text/html": [
       "<div>\n",
       "<style>\n",
       "    .dataframe thead tr:only-child th {\n",
       "        text-align: right;\n",
       "    }\n",
       "\n",
       "    .dataframe thead th {\n",
       "        text-align: left;\n",
       "    }\n",
       "\n",
       "    .dataframe tbody tr th {\n",
       "        vertical-align: top;\n",
       "    }\n",
       "</style>\n",
       "<table border=\"1\" class=\"dataframe\">\n",
       "  <thead>\n",
       "    <tr style=\"text-align: right;\">\n",
       "      <th></th>\n",
       "      <th>p_id</th>\n",
       "      <th>hh_id</th>\n",
       "      <th>serialno</th>\n",
       "      <th>stcotrbg</th>\n",
       "      <th>age</th>\n",
       "      <th>sex</th>\n",
       "      <th>race</th>\n",
       "      <th>sporder</th>\n",
       "      <th>relate</th>\n",
       "      <th>school_id</th>\n",
       "      <th>workplace_id</th>\n",
       "    </tr>\n",
       "  </thead>\n",
       "  <tbody>\n",
       "    <tr>\n",
       "      <th>0</th>\n",
       "      <td>416175660</td>\n",
       "      <td>261526469</td>\n",
       "      <td>2005000002176</td>\n",
       "      <td>420659503002</td>\n",
       "      <td>86</td>\n",
       "      <td>2</td>\n",
       "      <td>1</td>\n",
       "      <td>1</td>\n",
       "      <td>0</td>\n",
       "      <td>NaN</td>\n",
       "      <td>NaN</td>\n",
       "    </tr>\n",
       "    <tr>\n",
       "      <th>1</th>\n",
       "      <td>416175661</td>\n",
       "      <td>261526469</td>\n",
       "      <td>2005000002176</td>\n",
       "      <td>420659503002</td>\n",
       "      <td>92</td>\n",
       "      <td>1</td>\n",
       "      <td>1</td>\n",
       "      <td>2</td>\n",
       "      <td>1</td>\n",
       "      <td>NaN</td>\n",
       "      <td>NaN</td>\n",
       "    </tr>\n",
       "    <tr>\n",
       "      <th>2</th>\n",
       "      <td>416175676</td>\n",
       "      <td>261533970</td>\n",
       "      <td>2005000002176</td>\n",
       "      <td>420659508002</td>\n",
       "      <td>86</td>\n",
       "      <td>2</td>\n",
       "      <td>1</td>\n",
       "      <td>1</td>\n",
       "      <td>0</td>\n",
       "      <td>NaN</td>\n",
       "      <td>NaN</td>\n",
       "    </tr>\n",
       "    <tr>\n",
       "      <th>3</th>\n",
       "      <td>416175677</td>\n",
       "      <td>261533970</td>\n",
       "      <td>2005000002176</td>\n",
       "      <td>420659508002</td>\n",
       "      <td>92</td>\n",
       "      <td>1</td>\n",
       "      <td>1</td>\n",
       "      <td>2</td>\n",
       "      <td>1</td>\n",
       "      <td>NaN</td>\n",
       "      <td>NaN</td>\n",
       "    </tr>\n",
       "    <tr>\n",
       "      <th>4</th>\n",
       "      <td>416175678</td>\n",
       "      <td>261526897</td>\n",
       "      <td>2005000002176</td>\n",
       "      <td>420659503003</td>\n",
       "      <td>86</td>\n",
       "      <td>2</td>\n",
       "      <td>1</td>\n",
       "      <td>1</td>\n",
       "      <td>0</td>\n",
       "      <td>NaN</td>\n",
       "      <td>NaN</td>\n",
       "    </tr>\n",
       "  </tbody>\n",
       "</table>\n",
       "</div>"
      ],
      "text/plain": [
       "        p_id      hh_id       serialno      stcotrbg  age  sex  race  sporder  \\\n",
       "0  416175660  261526469  2005000002176  420659503002   86    2     1        1   \n",
       "1  416175661  261526469  2005000002176  420659503002   92    1     1        2   \n",
       "2  416175676  261533970  2005000002176  420659508002   86    2     1        1   \n",
       "3  416175677  261533970  2005000002176  420659508002   92    1     1        2   \n",
       "4  416175678  261526897  2005000002176  420659503003   86    2     1        1   \n",
       "\n",
       "   relate school_id  workplace_id  \n",
       "0       0       NaN           NaN  \n",
       "1       1       NaN           NaN  \n",
       "2       0       NaN           NaN  \n",
       "3       1       NaN           NaN  \n",
       "4       0       NaN           NaN  "
      ]
     },
     "execution_count": 39,
     "metadata": {},
     "output_type": "execute_result"
    },
    {
     "name": "stdout",
     "output_type": "stream",
     "text": [
      "time: 116 ms\n"
     ]
    }
   ],
   "source": [
    "population.head()"
   ]
  },
  {
   "cell_type": "markdown",
   "metadata": {},
   "source": [
    "# Task: randomly sample the population and summarize the age distribution"
   ]
  },
  {
   "cell_type": "markdown",
   "metadata": {},
   "source": [
    "This is an example function to execute on the population dataframe"
   ]
  },
  {
   "cell_type": "code",
   "execution_count": 20,
   "metadata": {},
   "outputs": [
    {
     "name": "stdout",
     "output_type": "stream",
     "text": [
      "time: 3.3 ms\n"
     ]
    }
   ],
   "source": [
    "def get_max_age(sample_size):\n",
    "    #print(id(population))\n",
    "    #print('Sample number %d' % n)\n",
    "    return population.loc[np.random.randint(0, len(population), sample_size), 'age'].max()"
   ]
  },
  {
   "cell_type": "code",
   "execution_count": 30,
   "metadata": {},
   "outputs": [
    {
     "name": "stdout",
     "output_type": "stream",
     "text": [
      "time: 7.18 ms\n"
     ]
    }
   ],
   "source": [
    "# Here we use a process pool and the map function\n",
    "def test_process_pool(num_samples, sample_size):\n",
    "    with concurrent.futures.ProcessPoolExecutor() as executor:\n",
    "        samples = list(range(num_samples))\n",
    "        for sample_number, max_age in zip(\n",
    "            samples,executor.map(get_max_age, [sample_size]*num_samples)):\n",
    "            pass"
   ]
  },
  {
   "cell_type": "code",
   "execution_count": 29,
   "metadata": {},
   "outputs": [
    {
     "name": "stdout",
     "output_type": "stream",
     "text": [
      "time: 7.45 ms\n"
     ]
    }
   ],
   "source": [
    "# Note the consistent syntax\n",
    "def test_threading_pool(num_samples, sample_size):\n",
    "    with concurrent.futures.ThreadPoolExecutor() as executor:\n",
    "        samples = list(range(num_samples))\n",
    "        for sample_number, max_age in zip(\n",
    "            samples,executor.map(get_max_age, [sample_size]*num_samples)):\n",
    "            pass"
   ]
  },
  {
   "cell_type": "markdown",
   "metadata": {},
   "source": [
    "## Testing performance of the process pool compared to threading\n",
    "\n",
    "Note that there is a significant amount of overhead for the process pool relative to the threading pool"
   ]
  },
  {
   "cell_type": "code",
   "execution_count": 31,
   "metadata": {},
   "outputs": [
    {
     "name": "stdout",
     "output_type": "stream",
     "text": [
      "time: 75.1 ms\n"
     ]
    }
   ],
   "source": [
    "test_process_pool(10,10)"
   ]
  },
  {
   "cell_type": "code",
   "execution_count": 32,
   "metadata": {},
   "outputs": [
    {
     "name": "stdout",
     "output_type": "stream",
     "text": [
      "time: 28.8 ms\n"
     ]
    }
   ],
   "source": [
    "test_threading_pool(10,10)"
   ]
  },
  {
   "cell_type": "markdown",
   "metadata": {},
   "source": [
    "But when the amount of work increases the independent execution in the process pool wins out"
   ]
  },
  {
   "cell_type": "code",
   "execution_count": 36,
   "metadata": {},
   "outputs": [
    {
     "name": "stdout",
     "output_type": "stream",
     "text": [
      "time: 1.79 s\n"
     ]
    }
   ],
   "source": [
    "test_process_pool(100,1000)"
   ]
  },
  {
   "cell_type": "code",
   "execution_count": 35,
   "metadata": {},
   "outputs": [
    {
     "name": "stdout",
     "output_type": "stream",
     "text": [
      "time: 4.92 s\n"
     ]
    }
   ],
   "source": [
    "test_threading_pool(100,1000)"
   ]
  }
 ],
 "metadata": {
  "kernelspec": {
   "display_name": "Python 3",
   "language": "python",
   "name": "python3"
  },
  "language_info": {
   "codemirror_mode": {
    "name": "ipython",
    "version": 3
   },
   "file_extension": ".py",
   "mimetype": "text/x-python",
   "name": "python",
   "nbconvert_exporter": "python",
   "pygments_lexer": "ipython3",
   "version": "3.6.1"
  }
 },
 "nbformat": 4,
 "nbformat_minor": 2
}
