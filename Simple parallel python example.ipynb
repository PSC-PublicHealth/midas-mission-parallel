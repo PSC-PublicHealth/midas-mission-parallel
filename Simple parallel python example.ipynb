{
 "cells": [
  {
   "cell_type": "code",
   "execution_count": 41,
   "metadata": {},
   "outputs": [
    {
     "name": "stdout",
     "output_type": "stream",
     "text": [
      "The autotime extension is already loaded. To reload it, use:\n",
      "  %reload_ext autotime\n",
      "time: 92.5 ms\n"
     ]
    }
   ],
   "source": [
    "%load_ext autotime\n",
    "import pandas as pd\n",
    "import numpy as np\n",
    "import concurrent.futures"
   ]
  },
  {
   "cell_type": "markdown",
   "metadata": {},
   "source": [
    "# Example data\n",
    "\n",
    "We'll use s synthetic population file for simple parallel examples; read the data in using `pandas`."
   ]
  },
  {
   "cell_type": "code",
   "execution_count": 62,
   "metadata": {},
   "outputs": [
    {
     "name": "stdout",
     "output_type": "stream",
     "text": [
      "time: 121 ms\n"
     ]
    }
   ],
   "source": [
    "population = pd.read_csv('dat/2005_2009_ver2_42065_synth_people.txt')"
   ]
  },
  {
   "cell_type": "code",
   "execution_count": 63,
   "metadata": {},
   "outputs": [
    {
     "data": {
      "text/html": [
       "<div>\n",
       "<style>\n",
       "    .dataframe thead tr:only-child th {\n",
       "        text-align: right;\n",
       "    }\n",
       "\n",
       "    .dataframe thead th {\n",
       "        text-align: left;\n",
       "    }\n",
       "\n",
       "    .dataframe tbody tr th {\n",
       "        vertical-align: top;\n",
       "    }\n",
       "</style>\n",
       "<table border=\"1\" class=\"dataframe\">\n",
       "  <thead>\n",
       "    <tr style=\"text-align: right;\">\n",
       "      <th></th>\n",
       "      <th>p_id</th>\n",
       "      <th>hh_id</th>\n",
       "      <th>serialno</th>\n",
       "      <th>stcotrbg</th>\n",
       "      <th>age</th>\n",
       "      <th>sex</th>\n",
       "      <th>race</th>\n",
       "      <th>sporder</th>\n",
       "      <th>relate</th>\n",
       "      <th>school_id</th>\n",
       "      <th>workplace_id</th>\n",
       "    </tr>\n",
       "  </thead>\n",
       "  <tbody>\n",
       "    <tr>\n",
       "      <th>0</th>\n",
       "      <td>416175660</td>\n",
       "      <td>261526469</td>\n",
       "      <td>2005000002176</td>\n",
       "      <td>420659503002</td>\n",
       "      <td>86</td>\n",
       "      <td>2</td>\n",
       "      <td>1</td>\n",
       "      <td>1</td>\n",
       "      <td>0</td>\n",
       "      <td>NaN</td>\n",
       "      <td>NaN</td>\n",
       "    </tr>\n",
       "    <tr>\n",
       "      <th>1</th>\n",
       "      <td>416175661</td>\n",
       "      <td>261526469</td>\n",
       "      <td>2005000002176</td>\n",
       "      <td>420659503002</td>\n",
       "      <td>92</td>\n",
       "      <td>1</td>\n",
       "      <td>1</td>\n",
       "      <td>2</td>\n",
       "      <td>1</td>\n",
       "      <td>NaN</td>\n",
       "      <td>NaN</td>\n",
       "    </tr>\n",
       "    <tr>\n",
       "      <th>2</th>\n",
       "      <td>416175676</td>\n",
       "      <td>261533970</td>\n",
       "      <td>2005000002176</td>\n",
       "      <td>420659508002</td>\n",
       "      <td>86</td>\n",
       "      <td>2</td>\n",
       "      <td>1</td>\n",
       "      <td>1</td>\n",
       "      <td>0</td>\n",
       "      <td>NaN</td>\n",
       "      <td>NaN</td>\n",
       "    </tr>\n",
       "    <tr>\n",
       "      <th>3</th>\n",
       "      <td>416175677</td>\n",
       "      <td>261533970</td>\n",
       "      <td>2005000002176</td>\n",
       "      <td>420659508002</td>\n",
       "      <td>92</td>\n",
       "      <td>1</td>\n",
       "      <td>1</td>\n",
       "      <td>2</td>\n",
       "      <td>1</td>\n",
       "      <td>NaN</td>\n",
       "      <td>NaN</td>\n",
       "    </tr>\n",
       "    <tr>\n",
       "      <th>4</th>\n",
       "      <td>416175678</td>\n",
       "      <td>261526897</td>\n",
       "      <td>2005000002176</td>\n",
       "      <td>420659503003</td>\n",
       "      <td>86</td>\n",
       "      <td>2</td>\n",
       "      <td>1</td>\n",
       "      <td>1</td>\n",
       "      <td>0</td>\n",
       "      <td>NaN</td>\n",
       "      <td>NaN</td>\n",
       "    </tr>\n",
       "  </tbody>\n",
       "</table>\n",
       "</div>"
      ],
      "text/plain": [
       "        p_id      hh_id       serialno      stcotrbg  age  sex  race  sporder  \\\n",
       "0  416175660  261526469  2005000002176  420659503002   86    2     1        1   \n",
       "1  416175661  261526469  2005000002176  420659503002   92    1     1        2   \n",
       "2  416175676  261533970  2005000002176  420659508002   86    2     1        1   \n",
       "3  416175677  261533970  2005000002176  420659508002   92    1     1        2   \n",
       "4  416175678  261526897  2005000002176  420659503003   86    2     1        1   \n",
       "\n",
       "   relate school_id  workplace_id  \n",
       "0       0       NaN           NaN  \n",
       "1       1       NaN           NaN  \n",
       "2       0       NaN           NaN  \n",
       "3       1       NaN           NaN  \n",
       "4       0       NaN           NaN  "
      ]
     },
     "execution_count": 63,
     "metadata": {},
     "output_type": "execute_result"
    },
    {
     "name": "stdout",
     "output_type": "stream",
     "text": [
      "time: 22.2 ms\n"
     ]
    }
   ],
   "source": [
    "# Just to show the contents of the dataframe\n",
    "population.head()"
   ]
  },
  {
   "cell_type": "markdown",
   "metadata": {},
   "source": [
    "# Task: randomly sample the population and summarize the age distribution"
   ]
  },
  {
   "cell_type": "markdown",
   "metadata": {},
   "source": [
    "This is an example function to execute on the population dataframe using both threading and multiprocessing."
   ]
  },
  {
   "cell_type": "code",
   "execution_count": 44,
   "metadata": {},
   "outputs": [
    {
     "name": "stdout",
     "output_type": "stream",
     "text": [
      "time: 12.5 ms\n"
     ]
    }
   ],
   "source": [
    "def get_mean_age(sample_size):\n",
    "    #print(id(population))\n",
    "    #print('Sample number %d' % n)\n",
    "    return population.loc[np.random.randint(0, len(population), sample_size), 'age'].mean()"
   ]
  },
  {
   "cell_type": "code",
   "execution_count": 45,
   "metadata": {},
   "outputs": [
    {
     "name": "stdout",
     "output_type": "stream",
     "text": [
      "time: 14.5 ms\n"
     ]
    }
   ],
   "source": [
    "# Here we use a process pool and the map function\n",
    "def test_process_pool(num_samples, sample_size):\n",
    "    with concurrent.futures.ProcessPoolExecutor() as executor:\n",
    "        samples = list(range(num_samples))\n",
    "        for sample_number, max_age in zip(\n",
    "            samples,executor.map(get_mean_age, [sample_size]*num_samples)):\n",
    "            pass"
   ]
  },
  {
   "cell_type": "code",
   "execution_count": 46,
   "metadata": {},
   "outputs": [
    {
     "name": "stdout",
     "output_type": "stream",
     "text": [
      "time: 8.62 ms\n"
     ]
    }
   ],
   "source": [
    "# Note the consistent syntax\n",
    "def test_threading_pool(num_samples, sample_size):\n",
    "    with concurrent.futures.ThreadPoolExecutor() as executor:\n",
    "        samples = list(range(num_samples))\n",
    "        for sample_number, max_age in zip(\n",
    "            samples,executor.map(get_mean_age, [sample_size]*num_samples)):\n",
    "            pass"
   ]
  },
  {
   "cell_type": "markdown",
   "metadata": {},
   "source": [
    "## Testing performance of the process pool compared to threading\n",
    "\n",
    "Note that there is a significant amount of overhead for the process pool relative to the threading pool"
   ]
  },
  {
   "cell_type": "code",
   "execution_count": 47,
   "metadata": {},
   "outputs": [
    {
     "name": "stdout",
     "output_type": "stream",
     "text": [
      "time: 149 ms\n"
     ]
    }
   ],
   "source": [
    "test_process_pool(10,10)"
   ]
  },
  {
   "cell_type": "code",
   "execution_count": 48,
   "metadata": {},
   "outputs": [
    {
     "name": "stdout",
     "output_type": "stream",
     "text": [
      "time: 30.5 ms\n"
     ]
    }
   ],
   "source": [
    "test_threading_pool(10,10)"
   ]
  },
  {
   "cell_type": "markdown",
   "metadata": {},
   "source": [
    "But when the amount of work increases the independent execution in the process pool wins out"
   ]
  },
  {
   "cell_type": "code",
   "execution_count": 36,
   "metadata": {},
   "outputs": [
    {
     "name": "stdout",
     "output_type": "stream",
     "text": [
      "time: 1.79 s\n"
     ]
    }
   ],
   "source": [
    "test_process_pool(100,1000)"
   ]
  },
  {
   "cell_type": "code",
   "execution_count": 35,
   "metadata": {},
   "outputs": [
    {
     "name": "stdout",
     "output_type": "stream",
     "text": [
      "time: 4.92 s\n"
     ]
    }
   ],
   "source": [
    "test_threading_pool(100,1000)"
   ]
  },
  {
   "cell_type": "markdown",
   "metadata": {},
   "source": [
    "# Example: apply a parallel function to a pandas data frame\n",
    "\n",
    "Pandas `groupby` can be used to provide the chunks to operate on in parallel.\n",
    "\n",
    "This can work especially well with the threading backend if the function to be applied is a compiled extension that releases the gil\n",
    "\n",
    "The following example uses `submit` rather than `map` to illustrate this more flexible way to execute functions in parallel.  `submit` allows straightforward specification of other arguments to the target function."
   ]
  },
  {
   "cell_type": "code",
   "execution_count": 50,
   "metadata": {},
   "outputs": [
    {
     "name": "stdout",
     "output_type": "stream",
     "text": [
      "time: 139 ms\n"
     ]
    }
   ],
   "source": [
    "def summarize_group(group_df):\n",
    "    return group_df.age.mean()\n",
    "\n",
    "group_futures = {}\n",
    "with concurrent.futures.ProcessPoolExecutor() as executor:\n",
    "    for group, group_df in population.groupby('race'):\n",
    "        group_futures[group] = executor.submit(summarize_group, group_df)\n",
    "    "
   ]
  },
  {
   "cell_type": "markdown",
   "metadata": {},
   "source": [
    "## Accessing results\n",
    "\n",
    "When work is submitted to the executor, a futures object is returned.  Calling the `results()` method on this futures object will block until exection has completed."
   ]
  },
  {
   "cell_type": "code",
   "execution_count": 53,
   "metadata": {},
   "outputs": [
    {
     "name": "stdout",
     "output_type": "stream",
     "text": [
      "1 40.9084934277\n",
      "2 22.7407407407\n",
      "3 47.2857142857\n",
      "5 27.0\n",
      "6 47.3305084746\n",
      "7 21.0\n",
      "8 34.9393939394\n",
      "9 28.9795081967\n",
      "time: 5.3 ms\n"
     ]
    }
   ],
   "source": [
    "for group, future in group_futures.items():\n",
    "    print(group, future.result())"
   ]
  },
  {
   "cell_type": "markdown",
   "metadata": {},
   "source": [
    "## Alternative presentation of results as pandas Series"
   ]
  },
  {
   "cell_type": "code",
   "execution_count": 61,
   "metadata": {},
   "outputs": [
    {
     "data": {
      "text/plain": [
       "1    40.908493\n",
       "2    22.740741\n",
       "3    47.285714\n",
       "5    27.000000\n",
       "6    47.330508\n",
       "7    21.000000\n",
       "8    34.939394\n",
       "9    28.979508\n",
       "Name: average_age, dtype: float64"
      ]
     },
     "execution_count": 61,
     "metadata": {},
     "output_type": "execute_result"
    },
    {
     "name": "stdout",
     "output_type": "stream",
     "text": [
      "time: 8.66 ms\n"
     ]
    }
   ],
   "source": [
    "pd.Series({g:f.result() for g,f in group_futures.items()},name='average_age')"
   ]
  },
  {
   "cell_type": "markdown",
   "metadata": {},
   "source": [
    "Next: [Simple parallel R example](Simple parallel R example.ipynb)"
   ]
  }
 ],
 "metadata": {
  "kernelspec": {
   "display_name": "Python 3",
   "language": "python",
   "name": "python3"
  },
  "language_info": {
   "codemirror_mode": {
    "name": "ipython",
    "version": 3
   },
   "file_extension": ".py",
   "mimetype": "text/x-python",
   "name": "python",
   "nbconvert_exporter": "python",
   "pygments_lexer": "ipython3",
   "version": "3.6.1"
  }
 },
 "nbformat": 4,
 "nbformat_minor": 2
}
